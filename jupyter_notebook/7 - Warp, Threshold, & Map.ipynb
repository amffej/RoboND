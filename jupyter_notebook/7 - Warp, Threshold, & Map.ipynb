{
 "cells": [
  {
   "cell_type": "code",
   "execution_count": 17,
   "metadata": {},
   "outputs": [
    {
     "data": {
      "image/png": "[encoded data removed]",
      "text/plain": [
       "<matplotlib.figure.Figure at 0x214ce8299e8>"
      ]
     },
     "metadata": {},
     "output_type": "display_data"
    },
    {
     "data": {
      "image/png": "[encoded data removed]",
      "text/plain": [
       "<matplotlib.figure.Figure at 0x214ce7f3550>"
      ]
     },
     "metadata": {},
     "output_type": "display_data"
    },
    {
     "name": "stdout",
     "output_type": "stream",
     "text": [
      "(3257,)\n"
     ]
    }
   ],
   "source": [
    "import numpy as np\n",
    "import cv2\n",
    "import matplotlib.image as mpimg\n",
    "import matplotlib.pyplot as plt\n",
    "\n",
    "%matplotlib inline\n",
    "image = mpimg.imread('sample.jpg')\n",
    "\n",
    "def perspect_transform(img, src, dst):\n",
    "\n",
    "    # Get transform matrix using cv2.getPerspectivTransform()\n",
    "    M = cv2.getPerspectiveTransform(src, dst)\n",
    "    # Warp image using cv2.warpPerspective()\n",
    "    # keep same size as input image\n",
    "    warped = cv2.warpPerspective(img, M, (img.shape[1], img.shape[0]))\n",
    "    # Return the result\n",
    "    return warped\n",
    "                  \n",
    "def color_thresh(img, rgb_thresh=(160, 160, 160)):\n",
    "    # Create an array of zeros same xy size as img, but single channel\n",
    "    color_select = np.zeros_like(img[:,:,0])\n",
    "    # Require that each pixel be above all thre threshold values in RGB\n",
    "    # above_thresh will now contain a boolean array with \"True\"\n",
    "    # where threshold was met\n",
    "    above_thresh = (img[:,:,0] > rgb_thresh[0]) \\\n",
    "                & (img[:,:,1] > rgb_thresh[1]) \\\n",
    "                & (img[:,:,2] > rgb_thresh[2])\n",
    "    # Index the array of zeros with the boolean array and set to 1\n",
    "    color_select[above_thresh] = 1\n",
    "    # Return the binary image\n",
    "    return color_select\n",
    "    \n",
    "\n",
    "# Define calibration box in source (actual) and destination (desired) coordinates\n",
    "# These source and destination points are defined to warp the image\n",
    "# to a grid where each 10x10 pixel square represents 1 square meter\n",
    "dst_size = 5 \n",
    "# Set a bottom offset to account for the fact that the bottom of the image \n",
    "# is not the position of the rover but a bit in front of it\n",
    "bottom_offset = 6\n",
    "source = np.float32([[14, 140], [301 ,140],[200, 96], [118, 96]])\n",
    "destination = np.float32([[image.shape[1]/2 - dst_size, image.shape[0] - bottom_offset],\n",
    "                  [image.shape[1]/2 + dst_size, image.shape[0] - bottom_offset],\n",
    "                  [image.shape[1]/2 + dst_size, image.shape[0] - 2*dst_size - bottom_offset], \n",
    "                  [image.shape[1]/2 - dst_size, image.shape[0] - 2*dst_size - bottom_offset],\n",
    "                  ])\n",
    "\n",
    "warped = perspect_transform(image,source,destination)\n",
    "colorsel = color_thresh(warped, rgb_thresh=(160, 160, 160))\n",
    "# Plot the result\n",
    "plt.imshow(colorsel, cmap='gray')\n",
    "plt.show()\n",
    "ypos, xpos = colorsel.nonzero()\n",
    "plt.plot(xpos, ypos, '.')\n",
    "plt.xlim(0, 320)\n",
    "plt.ylim(0, 160)\n",
    "plt.show()"
   ]
  },
  {
   "cell_type": "code",
   "execution_count": 40,
   "metadata": {},
   "outputs": [
    {
     "data": {
      "image/png": "[encoded data removed]",
      "text/plain": [
       "<matplotlib.figure.Figure at 0x214ce8e46d8>"
      ]
     },
     "metadata": {},
     "output_type": "display_data"
    }
   ],
   "source": [
    "import matplotlib.pyplot as plt\n",
    "import matplotlib.image as mpimg\n",
    "import numpy as np\n",
    "import cv2\n",
    "def perspect_transform(img, src, dst):\n",
    "\n",
    "    # Get transform matrix using cv2.getPerspectivTransform()\n",
    "    M = cv2.getPerspectiveTransform(src, dst)\n",
    "    # Warp image using cv2.warpPerspective()\n",
    "    # keep same size as input image\n",
    "    warped = cv2.warpPerspective(img, M, (img.shape[1], img.shape[0]))\n",
    "    # Return the result\n",
    "    return warped\n",
    "                  \n",
    "def color_thresh(img, rgb_thresh=(160, 160, 160)):\n",
    "    # Create an array of zeros same xy size as img, but single channel\n",
    "    color_select = np.zeros_like(img[:,:,0])\n",
    "    # Require that each pixel be above all thre threshold values in RGB\n",
    "    # above_thresh will now contain a boolean array with \"True\"\n",
    "    # where threshold was met\n",
    "    above_thresh = (img[:,:,0] > rgb_thresh[0]) \\\n",
    "                & (img[:,:,1] > rgb_thresh[1]) \\\n",
    "                & (img[:,:,2] > rgb_thresh[2])\n",
    "    # Index the array of zeros with the boolean array and set to 1\n",
    "    color_select[above_thresh] = 1\n",
    "    # Return the binary image\n",
    "    return color_select\n",
    "    \n",
    "\n",
    "# Define calibration box in source (actual) and destination (desired) coordinates\n",
    "# These source and destination points are defined to warp the image\n",
    "# to a grid where each 10x10 pixel square represents 1 square meter\n",
    "dst_size = 5 \n",
    "# Set a bottom offset to account for the fact that the bottom of the image \n",
    "# is not the position of the rover but a bit in front of it\n",
    "bottom_offset = 6\n",
    "source = np.float32([[14, 140], [301 ,140],[200, 96], [118, 96]])\n",
    "destination = np.float32([[image.shape[1]/2 - dst_size, image.shape[0] - bottom_offset],\n",
    "                  [image.shape[1]/2 + dst_size, image.shape[0] - bottom_offset],\n",
    "                  [image.shape[1]/2 + dst_size, image.shape[0] - 2*dst_size - bottom_offset], \n",
    "                  [image.shape[1]/2 - dst_size, image.shape[0] - 2*dst_size - bottom_offset],\n",
    "                  ])\n",
    "\n",
    "# Read in the sample image\n",
    "image = mpimg.imread('sample.jpg')\n",
    "\n",
    "\n",
    "def rover_coords(binary_img):\n",
    "    # Identify nonzero pixels\n",
    "    ypos, xpos = binary_img.nonzero()\n",
    "    # Calculate pixel positions with reference to the rover position being at the \n",
    "    # center bottom of the image.  \n",
    "    x_pixel = -1*(ypos - 160)\n",
    "    y_pixel = -1*(xpos - 160)\n",
    "    return x_pixel, y_pixel\n",
    "\n",
    "\n",
    "# Perform warping and color thresholding\n",
    "warped = perspect_transform(image, source, destination)\n",
    "colorsel = color_thresh(warped, rgb_thresh=(160, 160, 160))\n",
    "# Extract x and y positions of navigable terrain pixels\n",
    "# and convert to rover coordinates\n",
    "xpix, ypix = rover_coords(colorsel)\n",
    "\n",
    "# Plot the map in rover-centric coords\n",
    "fig = plt.figure(figsize=(5, 7.5))\n",
    "plt.plot(xpix, ypix, '.')\n",
    "plt.ylim(-160, 160)\n",
    "plt.xlim(0, 160)\n",
    "plt.title('Rover-Centric Map', fontsize=20)\n",
    "plt.show() # Uncomment if running on your local machine"
   ]
  },
  {
   "cell_type": "code",
   "execution_count": 41,
   "metadata": {},
   "outputs": [
    {
     "data": {
      "image/png": "[encoded data removed]",
      "text/plain": [
       "<matplotlib.figure.Figure at 0x214ce88a7f0>"
      ]
     },
     "metadata": {},
     "output_type": "display_data"
    }
   ],
   "source": [
    "#EXERCISE SOLUTION\n",
    "import matplotlib.pyplot as plt\n",
    "import matplotlib.image as mpimg\n",
    "import numpy as np\n",
    "import cv2\n",
    "def perspect_transform(img, src, dst):\n",
    "\n",
    "    # Get transform matrix using cv2.getPerspectivTransform()\n",
    "    M = cv2.getPerspectiveTransform(src, dst)\n",
    "    # Warp image using cv2.warpPerspective()\n",
    "    # keep same size as input image\n",
    "    warped = cv2.warpPerspective(img, M, (img.shape[1], img.shape[0]))\n",
    "    # Return the result\n",
    "    return warped\n",
    "                  \n",
    "def color_thresh(img, rgb_thresh=(160, 160, 160)):\n",
    "    # Create an array of zeros same xy size as img, but single channel\n",
    "    color_select = np.zeros_like(img[:,:,0])\n",
    "    # Require that each pixel be above all thre threshold values in RGB\n",
    "    # above_thresh will now contain a boolean array with \"True\"\n",
    "    # where threshold was met\n",
    "    above_thresh = (img[:,:,0] > rgb_thresh[0]) \\\n",
    "                & (img[:,:,1] > rgb_thresh[1]) \\\n",
    "                & (img[:,:,2] > rgb_thresh[2])\n",
    "    # Index the array of zeros with the boolean array and set to 1\n",
    "    color_select[above_thresh] = 1\n",
    "    # Return the binary image\n",
    "    return color_select\n",
    "    \n",
    "\n",
    "# Define calibration box in source (actual) and destination (desired) coordinates\n",
    "# These source and destination points are defined to warp the image\n",
    "# to a grid where each 10x10 pixel square represents 1 square meter\n",
    "dst_size = 5 \n",
    "# Set a bottom offset to account for the fact that the bottom of the image \n",
    "# is not the position of the rover but a bit in front of it\n",
    "bottom_offset = 6\n",
    "source = np.float32([[14, 140], [301 ,140],[200, 96], [118, 96]])\n",
    "destination = np.float32([[image.shape[1]/2 - dst_size, image.shape[0] - bottom_offset],\n",
    "                  [image.shape[1]/2 + dst_size, image.shape[0] - bottom_offset],\n",
    "                  [image.shape[1]/2 + dst_size, image.shape[0] - 2*dst_size - bottom_offset], \n",
    "                  [image.shape[1]/2 - dst_size, image.shape[0] - 2*dst_size - bottom_offset],\n",
    "                  ])\n",
    "\n",
    "# Read in the sample image\n",
    "image = mpimg.imread('sample.jpg')\n",
    "\n",
    "\n",
    "# Define a function to convert from image coords to rover coords\n",
    "def rover_coords(binary_img):\n",
    "    # Identify nonzero pixels\n",
    "    ypos, xpos = binary_img.nonzero()\n",
    "    # Calculate pixel positions with reference to the rover position being at the \n",
    "    # center bottom of the image.  \n",
    "    x_pixel = -(ypos - binary_img.shape[0]).astype(np.float)\n",
    "    y_pixel = -(xpos - binary_img.shape[1]/2 ).astype(np.float)\n",
    "    return x_pixel, y_pixel\n",
    "\n",
    "\n",
    "# Perform warping and color thresholding\n",
    "warped = perspect_transform(image, source, destination)\n",
    "colorsel = color_thresh(warped, rgb_thresh=(160, 160, 160))\n",
    "# Extract x and y positions of navigable terrain pixels\n",
    "# and convert to rover coordinates\n",
    "xpix, ypix = rover_coords(colorsel)\n",
    "\n",
    "# Plot the map in rover-centric coords\n",
    "fig = plt.figure(figsize=(5, 7.5))\n",
    "plt.plot(xpix, ypix, '.')\n",
    "plt.ylim(-160, 160)\n",
    "plt.xlim(0, 160)\n",
    "plt.title('Rover-Centric Map', fontsize=20)\n",
    "plt.show() # Uncomment if running on your local machine"
   ]
  },
  {
   "cell_type": "code",
   "execution_count": null,
   "metadata": {},
   "outputs": [],
   "source": []
  }
 ],
 "metadata": {
  "kernelspec": {
   "display_name": "Python 3",
   "language": "python",
   "name": "python3"
  },
  "language_info": {
   "codemirror_mode": {
    "name": "ipython",
    "version": 3
   },
   "file_extension": ".py",
   "mimetype": "text/x-python",
   "name": "python",
   "nbconvert_exporter": "python",
   "pygments_lexer": "ipython3",
   "version": "3.5.2"
  },
  "widgets": {
   "state": {},
   "version": "1.1.2"
  }
 },
 "nbformat": 4,
 "nbformat_minor": 2
}
